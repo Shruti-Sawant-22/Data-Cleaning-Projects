{
 "cells": [
  {
   "cell_type": "code",
   "execution_count": 3,
   "id": "9952b35d",
   "metadata": {},
   "outputs": [],
   "source": [
    "import pandas as pd"
   ]
  },
  {
   "cell_type": "code",
   "execution_count": 4,
   "id": "b368e6f5",
   "metadata": {},
   "outputs": [],
   "source": [
    "names = [\"ABC\",\"DEF\",\"GHI\",\"ABC\",\"PQR\"]\n",
    "sentence = [\"How is everyone doing\",\"I'm doing awesome \",\"Doing great\",\"not doing bad at all\",\"how is the weather there\"]\n",
    "\n",
    "df = pd.DataFrame({\"names\":names,\n",
    "             \"sentence\":sentence})"
   ]
  },
  {
   "cell_type": "code",
   "execution_count": 5,
   "id": "61cdb161",
   "metadata": {},
   "outputs": [
    {
     "data": {
      "text/html": [
       "<div>\n",
       "<style scoped>\n",
       "    .dataframe tbody tr th:only-of-type {\n",
       "        vertical-align: middle;\n",
       "    }\n",
       "\n",
       "    .dataframe tbody tr th {\n",
       "        vertical-align: top;\n",
       "    }\n",
       "\n",
       "    .dataframe thead th {\n",
       "        text-align: right;\n",
       "    }\n",
       "</style>\n",
       "<table border=\"1\" class=\"dataframe\">\n",
       "  <thead>\n",
       "    <tr style=\"text-align: right;\">\n",
       "      <th></th>\n",
       "      <th>names</th>\n",
       "      <th>sentence</th>\n",
       "    </tr>\n",
       "  </thead>\n",
       "  <tbody>\n",
       "    <tr>\n",
       "      <th>0</th>\n",
       "      <td>ABC</td>\n",
       "      <td>How is everyone doing</td>\n",
       "    </tr>\n",
       "    <tr>\n",
       "      <th>1</th>\n",
       "      <td>DEF</td>\n",
       "      <td>I'm doing awesome</td>\n",
       "    </tr>\n",
       "    <tr>\n",
       "      <th>2</th>\n",
       "      <td>GHI</td>\n",
       "      <td>Doing great</td>\n",
       "    </tr>\n",
       "    <tr>\n",
       "      <th>3</th>\n",
       "      <td>ABC</td>\n",
       "      <td>not doing bad at all</td>\n",
       "    </tr>\n",
       "    <tr>\n",
       "      <th>4</th>\n",
       "      <td>PQR</td>\n",
       "      <td>how is the weather there</td>\n",
       "    </tr>\n",
       "  </tbody>\n",
       "</table>\n",
       "</div>"
      ],
      "text/plain": [
       "  names                  sentence\n",
       "0   ABC     How is everyone doing\n",
       "1   DEF        I'm doing awesome \n",
       "2   GHI               Doing great\n",
       "3   ABC      not doing bad at all\n",
       "4   PQR  how is the weather there"
      ]
     },
     "execution_count": 5,
     "metadata": {},
     "output_type": "execute_result"
    }
   ],
   "source": [
    "df"
   ]
  },
  {
   "cell_type": "code",
   "execution_count": 6,
   "id": "1271f317",
   "metadata": {},
   "outputs": [],
   "source": [
    "# Approach - Do for 1. Same logic will be applied for all via for loop\n",
    "\n",
    "\n",
    "# Step 1 - Collect all the unique names\n",
    "# step 2 - Run a for loop for each name\n",
    "# Step 3 - filter the data for that name\n",
    "#step 4 = Create a tranform df where it contains two columns one has name and the other has the words\n",
    "#Step 5 = Do nunique to get the total number of words\n",
    "#step 6 = Do value_counts to find the frequent words\n",
    "#step 7 = Collect the same for all the names in a dict \n",
    "#step 8 = Convert the dict to DataFrame"
   ]
  },
  {
   "cell_type": "code",
   "execution_count": 7,
   "id": "fa9c59bf",
   "metadata": {},
   "outputs": [
    {
     "data": {
      "text/plain": [
       "['ABC', 'DEF', 'GHI', 'PQR']"
      ]
     },
     "execution_count": 7,
     "metadata": {},
     "output_type": "execute_result"
    }
   ],
   "source": [
    "#collecting all the unique names\n",
    "names = df.names.unique().tolist()\n",
    "names"
   ]
  },
  {
   "cell_type": "code",
   "execution_count": 8,
   "id": "156b72ec",
   "metadata": {},
   "outputs": [],
   "source": [
    "def find_values(ind_df):\n",
    "    \n",
    "    total_unique_words = ind_df['Words'].nunique()\n",
    "    frequent_word = ind_df['Words'].value_counts().index[0]\n",
    "    count_of_frequent_words = ind_df['Words'].value_counts().values[0]\n",
    "    \n",
    "    \n",
    "    return total_unique_words,frequent_word,count_of_frequent_words\n",
    "\n",
    "\n",
    "def transform_df(name):\n",
    "    #print(name)\n",
    "    print(df[df['names']==name])\n",
    "    temp = df[df['names']==name]\n",
    "    \n",
    "    list_of_words = []\n",
    "    for i in temp.sentence:\n",
    "        print(i.split(\" \"))\n",
    "        list_of_words.extend(i.split(\" \")) #here we didn't take append coz appends takees one value at a time. Do check doing append as well and enjoy the result!\n",
    "        print(list_of_words)\n",
    "\n",
    "        #Taking an empty dataframe for creating the tranformed dataframe\n",
    "        ind_df = pd.DataFrame({'Words':list_of_words,'Name':name})  \n",
    "        \n",
    "    return ind_df\n",
    "\n",
    "\n"
   ]
  },
  {
   "cell_type": "code",
   "execution_count": 9,
   "id": "0dfd3ac3",
   "metadata": {
    "collapsed": true
   },
   "outputs": [
    {
     "name": "stdout",
     "output_type": "stream",
     "text": [
      "  names               sentence\n",
      "0   ABC  How is everyone doing\n",
      "3   ABC   not doing bad at all\n",
      "['How', 'is', 'everyone', 'doing']\n",
      "['How', 'is', 'everyone', 'doing']\n",
      "['not', 'doing', 'bad', 'at', 'all']\n",
      "['How', 'is', 'everyone', 'doing', 'not', 'doing', 'bad', 'at', 'all']\n",
      "  names            sentence\n",
      "1   DEF  I'm doing awesome \n",
      "[\"I'm\", 'doing', 'awesome', '']\n",
      "[\"I'm\", 'doing', 'awesome', '']\n",
      "  names     sentence\n",
      "2   GHI  Doing great\n",
      "['Doing', 'great']\n",
      "['Doing', 'great']\n",
      "  names                  sentence\n",
      "4   PQR  how is the weather there\n",
      "['how', 'is', 'the', 'weather', 'there']\n",
      "['how', 'is', 'the', 'weather', 'there']\n"
     ]
    }
   ],
   "source": [
    "summary_dict = {}\n",
    "for name in names:\n",
    "\n",
    "    transformed_df = transform_df(name)\n",
    "    total_unique_words,frequent_word,count_of_frequent_words = find_values(transformed_df)\n",
    "    \n",
    "    summary_dict[name] =[ total_unique_words,frequent_word,count_of_frequent_words]\n",
    "    "
   ]
  },
  {
   "cell_type": "code",
   "execution_count": 10,
   "id": "2334f55a",
   "metadata": {},
   "outputs": [
    {
     "data": {
      "text/plain": [
       "{'ABC': [8, 'doing', 2],\n",
       " 'DEF': [4, 'doing', 1],\n",
       " 'GHI': [2, 'great', 1],\n",
       " 'PQR': [5, 'weather', 1]}"
      ]
     },
     "execution_count": 10,
     "metadata": {},
     "output_type": "execute_result"
    }
   ],
   "source": [
    "summary_dict"
   ]
  },
  {
   "cell_type": "code",
   "execution_count": 11,
   "id": "b4d79422",
   "metadata": {
    "scrolled": true
   },
   "outputs": [
    {
     "data": {
      "text/html": [
       "<div>\n",
       "<style scoped>\n",
       "    .dataframe tbody tr th:only-of-type {\n",
       "        vertical-align: middle;\n",
       "    }\n",
       "\n",
       "    .dataframe tbody tr th {\n",
       "        vertical-align: top;\n",
       "    }\n",
       "\n",
       "    .dataframe thead th {\n",
       "        text-align: right;\n",
       "    }\n",
       "</style>\n",
       "<table border=\"1\" class=\"dataframe\">\n",
       "  <thead>\n",
       "    <tr style=\"text-align: right;\">\n",
       "      <th></th>\n",
       "      <th>total_unique_words</th>\n",
       "      <th>frequent_word</th>\n",
       "      <th>count_of_frequent_words</th>\n",
       "    </tr>\n",
       "  </thead>\n",
       "  <tbody>\n",
       "    <tr>\n",
       "      <th>ABC</th>\n",
       "      <td>8</td>\n",
       "      <td>doing</td>\n",
       "      <td>2</td>\n",
       "    </tr>\n",
       "    <tr>\n",
       "      <th>DEF</th>\n",
       "      <td>4</td>\n",
       "      <td>doing</td>\n",
       "      <td>1</td>\n",
       "    </tr>\n",
       "    <tr>\n",
       "      <th>GHI</th>\n",
       "      <td>2</td>\n",
       "      <td>great</td>\n",
       "      <td>1</td>\n",
       "    </tr>\n",
       "    <tr>\n",
       "      <th>PQR</th>\n",
       "      <td>5</td>\n",
       "      <td>weather</td>\n",
       "      <td>1</td>\n",
       "    </tr>\n",
       "  </tbody>\n",
       "</table>\n",
       "</div>"
      ],
      "text/plain": [
       "    total_unique_words frequent_word count_of_frequent_words\n",
       "ABC                  8         doing                       2\n",
       "DEF                  4         doing                       1\n",
       "GHI                  2         great                       1\n",
       "PQR                  5       weather                       1"
      ]
     },
     "execution_count": 11,
     "metadata": {},
     "output_type": "execute_result"
    }
   ],
   "source": [
    "summary_df= pd.DataFrame(summary_dict).T\n",
    "summary_df.columns=[\"total_unique_words\",\"frequent_word\",\"count_of_frequent_words\"]\n",
    "summary_df"
   ]
  },
  {
   "cell_type": "code",
   "execution_count": null,
   "id": "966d4ad0",
   "metadata": {},
   "outputs": [],
   "source": []
  }
 ],
 "metadata": {
  "kernelspec": {
   "display_name": "Python 3",
   "language": "python",
   "name": "python3"
  },
  "language_info": {
   "codemirror_mode": {
    "name": "ipython",
    "version": 3
   },
   "file_extension": ".py",
   "mimetype": "text/x-python",
   "name": "python",
   "nbconvert_exporter": "python",
   "pygments_lexer": "ipython3",
   "version": "3.8.8"
  }
 },
 "nbformat": 4,
 "nbformat_minor": 5
}
